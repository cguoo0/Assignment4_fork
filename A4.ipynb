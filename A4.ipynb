{
  "nbformat": 4,
  "nbformat_minor": 0,
  "metadata": {
    "colab": {
      "provenance": [],
      "authorship_tag": "ABX9TyMKi0L6hoZ9R/8lyMQKSUY/"
    },
    "kernelspec": {
      "name": "python3",
      "display_name": "Python 3"
    },
    "language_info": {
      "name": "python"
    }
  },
  "cells": [
    {
      "cell_type": "code",
      "source": [

board = [
    "......................",
    "......##########......",
    "......#........#......",
    "......#........#......",
    "......#........#####..",
    "....###............#..",
    "....#............###..",
    "....##############....",
]


def flood_fill(input_board, old, new, x, y):
    """Returns board with old values replaced with new values
    through flood filling starting from the coordinates x, y
    Args:
        input_board (List[str]): The input board
        old (str): Value to be replaced
        new (str): Value that replaces the old
        x (int): X-coordinate of the flood start point
        y (int): Y-coordinate of the flood start point
    Returns:
        List[str]: Modified board
    """

        "def flood_fill(input_board, old, new, x, y):\n",
        "    if x < 0 or x >= len(input_board) or y < 0 or y >= len(input_board[0]) or input_board[x][y] != old:\n",
        "        return input_board\n",
        "\n",
        "    input_board[x] = input_board[x][:y] + new + input_board[x][y + 1:]\n",
        "\n",
        "    flood_fill(input_board, old, new, x + 1, y)  # Down\n",
        "    flood_fill(input_board, old, new, x - 1, y)  # Up\n",
        "    flood_fill(input_board, old, new, x, y + 1)  # Right\n",
        "    flood_fill(input_board, old, new, x, y - 1)  # Left\n",
        "\n",
        "    return input_board\n",
        "\n",
        "board = [\n",
        "    \"......................\",\n",
        "    \"......##########......\",\n",
        "    \"......#........#......\",\n",
        "    \"......#........#......\",\n",
        "    \"......#........#####..\",\n",
        "    \"....###............#..\",\n",
        "    \"....#............###..\",\n",
        "    \"....##############....\",\n",
        "]\n",
        "\n",
        "modified_board = flood_fill(input_board=board, old=\".\", new=\"~\", x=5, y=12)\n",
        "\n",
        "for a in modified_board:\n",
        "    print(a)\n",
        "\n",
        "print(\"\\n\")\n",
        "\n",
        "modified_board = flood_fill(input_board=board, old=\".\", new=\"~\", x=1, y=1)\n",
        "\n",
        "for a in modified_board:\n",
        "    print(a)\n"
      ],
      "metadata": {
        "colab": {
          "base_uri": "https://localhost:8080/"
        },
        "id": "rXvxZO_GmSPJ",
        "outputId": "ad2860eb-9a30-4ad6-e635-90846a4c9495"
      },
      "execution_count": 5,
      "outputs": [
        {
          "output_type": "stream",
          "name": "stdout",
          "text": [
            "......................\n",
            "......##########......\n",
            "......#~~~~~~~~#......\n",
            "......#~~~~~~~~#......\n",
            "......#~~~~~~~~#####..\n",
            "....###~~~~~~~~~~~~#..\n",
            "....#~~~~~~~~~~~~###..\n",
            "....##############....\n",
            "\n",
            "\n",
            "~~~~~~~~~~~~~~~~~~~~~~\n",
            "~~~~~~##########~~~~~~\n",
            "~~~~~~#~~~~~~~~#~~~~~~\n",
            "~~~~~~#~~~~~~~~#~~~~~~\n",
            "~~~~~~#~~~~~~~~#####~~\n",
            "~~~~###~~~~~~~~~~~~#~~\n",
            "~~~~#~~~~~~~~~~~~###~~\n",
            "~~~~##############~~~~\n"
          ]
        }
      ]
    }
  ]
}
